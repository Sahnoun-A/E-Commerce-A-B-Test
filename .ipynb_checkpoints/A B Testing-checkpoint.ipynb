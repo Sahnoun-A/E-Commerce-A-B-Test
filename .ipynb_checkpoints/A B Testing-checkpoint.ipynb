{
 "cells": [
  {
   "cell_type": "markdown",
   "id": "5f9568b1-f58b-4ee0-9e4d-1d5c67f95106",
   "metadata": {},
   "source": [
    "# E‑Commerce A/B Test"
   ]
  },
  {
   "cell_type": "markdown",
   "id": "2c881cdb-8f5d-40ab-ad3c-7bc3d6aed6dc",
   "metadata": {},
   "source": [
    "## 1. Business Objective & Hypotheses"
   ]
  },
  {
   "cell_type": "markdown",
   "id": "fa4597c7-3887-4bd7-8ddd-f0b9bcae3646",
   "metadata": {},
   "source": [
    "### Business Objective\n",
    "\n",
    "Improve the checkout experience so that Variant B (new version) increases the user-level conversion rate versus Control A (old version) during the test window.\n",
    "\n",
    "### Primary Metric (PM): *Conversion Rate (CR)*\n",
    "\n",
    "**Definition:**  \n",
    "Proportion of *unique exposed users* who record at least one purchase/conversion event within the experiment window.\n",
    "\n",
    "**Formula:**  \n",
    "*CR = (# unique users with converted = 1) ÷ (# unique exposed users)*\n",
    "\n",
    "**Unit of randomization/analysis:** *user*  \n",
    "(Each user counted once; first exposure decides their group.)\n",
    "\n",
    "**Attribution:**  \n",
    "- Count at most *one conversion per user*  \n",
    "- Conversions must occur *after first exposure* and *within the experiment window*\n",
    "\n",
    "**Why CR? ????????????????????????????????????????????????????????????????????????????????????????????????????????????????**  \n",
    "- Directly tied to the objective  \n",
    "- Robust to outliers  \n",
    "\n",
    "*(Optional tie-breakers/secondary metrics later: Revenue per Visitor, Average Order Value, CTR)*\n",
    "\n",
    "### Hypotheses\n",
    "\n",
    "- *Null (H₀):* p_B − p_A ≤ 0 (Variant B does not improve CR over A)  \n",
    "- *Alternative (H₁):* p_B − p_A > 0 (Variant B improves CR over A)\n",
    "\n",
    "### Statistical Settings (pre-commit)\n",
    "\n",
    "- *Significance:* α = 0.05  \n",
    "- *Power target:* 1 − β = 0.80  \n",
    "- *Minimum Detectable Effect (relative):* δ_rel = +5%  \n",
    "  (i.e., *p_B ≥ 1.05 × p_A*)\n",
    "\n",
    "### Decision Rule (for primary metric)\n",
    "\n",
    "*Reject H₀ and “ship” if:*\n",
    "\n",
    "- *p-value ≤ α*, and  \n",
    "- *observed lift ≥ δ_rel*, and  \n",
    "- *guardrails* (e.g., error rate, page speed) are not violated\n"
   ]
  },
  {
   "cell_type": "markdown",
   "id": "0b549412-5463-43da-afbd-e764290d2f84",
   "metadata": {},
   "source": [
    "## 2. Setup & Data Load"
   ]
  },
  {
   "cell_type": "markdown",
   "id": "fa1d58ca-5fef-45bc-aac6-ee3ca4959d2a",
   "metadata": {},
   "source": [
    "### Statistical Settings"
   ]
  },
  {
   "cell_type": "code",
   "execution_count": 1,
   "id": "742327ea-52d4-478d-b556-82b5786e2476",
   "metadata": {},
   "outputs": [],
   "source": [
    "# Global experiment settings\n",
    "ALPHA = 0.05 # significance level\n",
    "POWER = 0.80 # target power\n",
    "MDE_REL = 0.05 # +5% relative lift\n",
    "ALT = 'smaller' # one-sided test for B > A given our order [A, B] in the test (p_A < p_B);\n",
    "\n",
    "UNIT = 'user' # randomization/analysis unit\n",
    "ALLOC_TARGET = 0.50 # expected traffic share for B (e.g., 0.50 for 50/50)\n",
    "\n",
    "# Optional guardrail thresholds\n",
    "GUARDRAILS = {\n",
    "'error_rate_max': None,\n",
    "'page_load_ms_max': None,\n",
    "}"
   ]
  },
  {
   "cell_type": "markdown",
   "id": "82266995-0a78-4337-84e1-a89c14709c9a",
   "metadata": {},
   "source": [
    "### Data Load"
   ]
  },
  {
   "cell_type": "code",
   "execution_count": 2,
   "id": "97146dd2-978c-4fac-85d6-1acf368ff3bb",
   "metadata": {},
   "outputs": [
    {
     "data": {
      "text/html": [
       "<div>\n",
       "<style scoped>\n",
       "    .dataframe tbody tr th:only-of-type {\n",
       "        vertical-align: middle;\n",
       "    }\n",
       "\n",
       "    .dataframe tbody tr th {\n",
       "        vertical-align: top;\n",
       "    }\n",
       "\n",
       "    .dataframe thead th {\n",
       "        text-align: right;\n",
       "    }\n",
       "</style>\n",
       "<table border=\"1\" class=\"dataframe\">\n",
       "  <thead>\n",
       "    <tr style=\"text-align: right;\">\n",
       "      <th></th>\n",
       "      <th>user_id</th>\n",
       "      <th>timestamp</th>\n",
       "      <th>group</th>\n",
       "      <th>landing_page</th>\n",
       "      <th>converted</th>\n",
       "    </tr>\n",
       "  </thead>\n",
       "  <tbody>\n",
       "    <tr>\n",
       "      <th>0</th>\n",
       "      <td>851104</td>\n",
       "      <td>2017-01-21 22:11:48.556739</td>\n",
       "      <td>control</td>\n",
       "      <td>old_page</td>\n",
       "      <td>0</td>\n",
       "    </tr>\n",
       "    <tr>\n",
       "      <th>1</th>\n",
       "      <td>804228</td>\n",
       "      <td>2017-01-12 08:01:45.159739</td>\n",
       "      <td>control</td>\n",
       "      <td>old_page</td>\n",
       "      <td>0</td>\n",
       "    </tr>\n",
       "    <tr>\n",
       "      <th>2</th>\n",
       "      <td>661590</td>\n",
       "      <td>2017-01-11 16:55:06.154213</td>\n",
       "      <td>treatment</td>\n",
       "      <td>new_page</td>\n",
       "      <td>0</td>\n",
       "    </tr>\n",
       "    <tr>\n",
       "      <th>3</th>\n",
       "      <td>853541</td>\n",
       "      <td>2017-01-08 18:28:03.143765</td>\n",
       "      <td>treatment</td>\n",
       "      <td>new_page</td>\n",
       "      <td>0</td>\n",
       "    </tr>\n",
       "    <tr>\n",
       "      <th>4</th>\n",
       "      <td>864975</td>\n",
       "      <td>2017-01-21 01:52:26.210827</td>\n",
       "      <td>control</td>\n",
       "      <td>old_page</td>\n",
       "      <td>1</td>\n",
       "    </tr>\n",
       "  </tbody>\n",
       "</table>\n",
       "</div>"
      ],
      "text/plain": [
       "   user_id                  timestamp      group landing_page  converted\n",
       "0   851104 2017-01-21 22:11:48.556739    control     old_page          0\n",
       "1   804228 2017-01-12 08:01:45.159739    control     old_page          0\n",
       "2   661590 2017-01-11 16:55:06.154213  treatment     new_page          0\n",
       "3   853541 2017-01-08 18:28:03.143765  treatment     new_page          0\n",
       "4   864975 2017-01-21 01:52:26.210827    control     old_page          1"
      ]
     },
     "execution_count": 2,
     "metadata": {},
     "output_type": "execute_result"
    }
   ],
   "source": [
    "# Imports & config\n",
    "import pandas as pd\n",
    "import numpy as np\n",
    "from scipy import stats\n",
    "from statsmodels.stats.power import NormalIndPower\n",
    "from statsmodels.stats.proportion import proportions_ztest\n",
    "\n",
    "pd.set_option('display.float_format', lambda x: f\"{x:,.6f}\")\n",
    "\n",
    "# Load your data\n",
    "path = \"ab_data.csv\" \n",
    "raw = pd.read_csv(path, parse_dates=['timestamp'])\n",
    "raw.head()"
   ]
  },
  {
   "cell_type": "markdown",
   "id": "cea9a7f4-f75d-4b13-bed3-ff9ed1756e2d",
   "metadata": {},
   "source": [
    "## 3. Basic Cleaning & Derivations"
   ]
  },
  {
   "cell_type": "code",
   "execution_count": 3,
   "id": "2da31995-fd81-4100-b856-46d20dbb67dc",
   "metadata": {},
   "outputs": [
    {
     "name": "stdout",
     "output_type": "stream",
     "text": [
      "2017-01-02 13:42:05.378582 2017-01-24 13:41:54.460509\n"
     ]
    }
   ],
   "source": [
    "# the experiment window\n",
    "ts_min = raw['timestamp'].min()   # earliest\n",
    "ts_max = raw['timestamp'].max()   # latest\n",
    "print(ts_min, ts_max)"
   ]
  },
  {
   "cell_type": "code",
   "execution_count": 4,
   "id": "2bfc2ca8-84c9-477e-b7f4-79491f880202",
   "metadata": {},
   "outputs": [
    {
     "data": {
      "text/plain": [
       "(group\n",
       " B    145352\n",
       " A    145232\n",
       " Name: count, dtype: int64,\n",
       " user_id        0.000000\n",
       " timestamp      0.000000\n",
       " group          0.000000\n",
       " landing_page   0.000000\n",
       " converted      0.000000\n",
       " dtype: float64)"
      ]
     },
     "execution_count": 4,
     "metadata": {},
     "output_type": "execute_result"
    }
   ],
   "source": [
    "# Ensure group labels are standard\n",
    "raw['group'] = raw['group'].str.upper().str.strip().replace({'CONTROL':'A','TREATMENT':'B'})\n",
    "\n",
    "# Drop duplicates at the exposure level (Here we assume one row per user per experiment)\n",
    "exp = raw.drop_duplicates(subset=['user_id'], keep='first').copy()\n",
    "\n",
    "# Quick checks\n",
    "exp['group'].value_counts(), exp.isna().mean()"
   ]
  },
  {
   "cell_type": "markdown",
   "id": "5633295f-10f3-4481-a998-fe45b2bec17a",
   "metadata": {},
   "source": [
    "## 4. Pre‑Launch Sanity Checks"
   ]
  },
  {
   "cell_type": "markdown",
   "id": "e8d31e49-8e67-421d-95c9-cd790e46ceee",
   "metadata": {},
   "source": [
    "**Goal**: verify randomization and logging are correct."
   ]
  },
  {
   "cell_type": "code",
   "execution_count": 6,
   "id": "a9c21f5e-ef54-4a83-81e8-25b1f09505e5",
   "metadata": {},
   "outputs": [
    {
     "name": "stdout",
     "output_type": "stream",
     "text": [
      "group\n",
      "B    145352\n",
      "A    145232\n",
      "Name: count, dtype: int64\n",
      "{'p_hat_B': np.float64(0.5002064807422294), 'pval_split': np.float64(0.8252830277277096)}\n"
     ]
    }
   ],
   "source": [
    "# Traffic split sanity: expect ~50/50\n",
    "counts = exp['group'].value_counts()\n",
    "print(counts)\n",
    "\n",
    "# Binomial test around 50%\n",
    "from statsmodels.stats.proportion import binom_test\n",
    "p_hat = counts['B'] / counts.sum()\n",
    "# Hypothesis test for the traffic split (H0: true B share = ALLOC_TARGET (0.50))\n",
    "pval_split = binom_test(counts['B'], counts.sum(), ALLOC_TARGET, alternative='two-sided')\n",
    "print({'p_hat_B': p_hat, 'pval_split': pval_split})"
   ]
  },
  {
   "cell_type": "markdown",
   "id": "6220e8e7-e0ac-431f-b98d-aee2b5b33de1",
   "metadata": {},
   "source": [
    "- the observed share of B traffic matches the expected share (50%)\n",
    "- *pval_split* is **not small** (> 0.05), the split is consistent with the plan (e.g., ~50/50), and we can proceed."
   ]
  },
  {
   "cell_type": "markdown",
   "id": "ed228fc5-55c0-4f62-be35-9f6c45a96918",
   "metadata": {},
   "source": [
    "## 5. Power & Sample Size Planning"
   ]
  },
  {
   "cell_type": "markdown",
   "id": "6ca54191-7af2-437a-b656-fec968d52338",
   "metadata": {},
   "source": [
    "Picking a *minimum detectable effect* (MDE) that is practically meaningful."
   ]
  },
  {
   "cell_type": "code",
   "execution_count": 7,
   "id": "b9702c33-36cc-474f-9ff0-e977ea3cf6e9",
   "metadata": {},
   "outputs": [
    {
     "name": "stdout",
     "output_type": "stream",
     "text": [
      "{'baseline': np.float64(0.12029717968491792), 'target': np.float64(0.12631203866916382), 'n_per_group_needed': array([10.])}\n"
     ]
    },
    {
     "name": "stderr",
     "output_type": "stream",
     "text": [
      "D:\\Users\\sahnoun\\anaconda3\\envs\\E_C_A_B_env\\Lib\\site-packages\\statsmodels\\stats\\power.py:135: RuntimeWarning: invalid value encountered in sqrt\n",
      "  pow_ += stats.norm.cdf(crit - d*np.sqrt(nobs)/sigma)\n",
      "D:\\Users\\sahnoun\\anaconda3\\envs\\E_C_A_B_env\\Lib\\site-packages\\statsmodels\\stats\\power.py:524: ConvergenceWarning: \n",
      "Failed to converge on a solution.\n",
      "\n",
      "  warnings.warn(convergence_doc, ConvergenceWarning)\n"
     ]
    }
   ],
   "source": [
    "# p0 = Conversion rate for group A (baseline) ,  mde_rel = desired relative lift\n",
    "p0 = exp.loc[exp['group']=='A', 'converted'].mean()    # mean = proportion of 1s\n",
    "alpha = ALPHA\n",
    "power = POWER\n",
    "mde_rel = MDE_REL # 5% relative lift\n",
    "p1 = p0 * (1 + mde_rel)   # target rate for group B\n",
    "\n",
    "# Approx sample size per group (for a two-sample z-test)\n",
    "effect_size = (p1 - p0) / np.sqrt(p0*(1-p0))   # convert the absolute lift (p1 − p0) into standard-deviation units using the Bernoulli SD at baseline\n",
    "n_per_group = NormalIndPower().solve_power(effect_size=effect_size, power=power, alpha=alpha, ratio=1, alternative=ALT)  # ratio=1 -> equal allocation A:B\n",
    "print({'baseline': p0, 'target': p1, 'n_per_group_needed': np.ceil(n_per_group)})"
   ]
  },
  {
   "cell_type": "markdown",
   "id": "4b1e7cfb-248a-4f8d-ba40-b2e7032f6a43",
   "metadata": {},
   "source": [
    "## 6. Primary Analysis – Conversion Rate (Proportion Test)"
   ]
  },
  {
   "cell_type": "code",
   "execution_count": 8,
   "id": "dc765e05-8931-4dbe-9446-efe921f392d0",
   "metadata": {},
   "outputs": [
    {
     "name": "stdout",
     "output_type": "stream",
     "text": [
      "        users  conversions       cr\n",
      "group                              \n",
      "A      145232        17471 0.120297\n",
      "B      145352        17274 0.118843\n",
      "{'z_stat': np.float64(1.2083846739740718), 'p_value': np.float64(0.8865503339193361), 'lift_abs': np.float64(-0.001454645698457463), 'lift_rel_%': np.float64(-1.2092101429704898)}\n"
     ]
    }
   ],
   "source": [
    "# Aggregate by group\n",
    "agg = exp.groupby('group').agg(users=('user_id','nunique'), conversions=('converted','sum'))\n",
    "agg['cr'] = agg['conversions'] / agg['users']   # conversion rate per group\n",
    "print(agg)\n",
    "\n",
    "# Prepare inputs for the z-test\n",
    "count = agg.loc[['A','B'], 'conversions'].to_numpy()           # number of “successes” (conversions) per group\n",
    "nobs = agg.loc[['A','B'], 'users'].to_numpy()                  # sample sizes per group (users)\n",
    "stat, pval = proportions_ztest(count, nobs, alternative=ALT)   # returns stat (z-score) and pval (p-value)\n",
    "\n",
    "# Compute lifts (effect sizes)\n",
    "lift_abs = agg.loc['B','cr'] - agg.loc['A','cr']   # absolute lift in conversion rate\n",
    "lift_rel = lift_abs / agg.loc['A','cr']            # relative lift vs control\n",
    "\n",
    "\n",
    "print({'z_stat': stat, 'p_value': pval, 'lift_abs': lift_abs, 'lift_rel_%': 100*lift_rel})"
   ]
  },
  {
   "cell_type": "code",
   "execution_count": 12,
   "id": "a55d77e6-2e91-4af5-b5f6-132beb7a6a71",
   "metadata": {},
   "outputs": [
    {
     "name": "stdout",
     "output_type": "stream",
     "text": [
      "{'diff_abs': np.float64(-0.001454645698457463), 'CI95': (np.float64(-0.00381403693080908), np.float64(0.0009047455338941539)), 'rel_%': np.float64(-1.2092101429704898)}\n"
     ]
    }
   ],
   "source": [
    "import numpy as np\n",
    "from scipy.stats import norm\n",
    "\n",
    "pA = agg.loc['A','cr']; pB = agg.loc['B','cr']\n",
    "nA = agg.loc['A','users']; nB = agg.loc['B','users']\n",
    "diff = pB - pA\n",
    "se = np.sqrt(pA*(1-pA)/nA + pB*(1-pB)/nB)\n",
    "z = norm.ppf(0.975)  # 95% two-sided\n",
    "ci = (diff - z*se, diff + z*se)\n",
    "print({'diff_abs': diff, 'CI95': ci, 'rel_%': 100*diff/pA})\n"
   ]
  },
  {
   "cell_type": "code",
   "execution_count": 10,
   "id": "665b822c-dcdb-4afe-83be-416bc4f2178d",
   "metadata": {},
   "outputs": [
    {
     "data": {
      "image/png": "[encoded data removed]",
      "text/plain": [
       "<Figure size 640x480 with 1 Axes>"
      ]
     },
     "metadata": {},
     "output_type": "display_data"
    }
   ],
   "source": [
    "# Time series of daily CR by group (sanity for novelty/seasonality)\n",
    "exp['date'] = exp['timestamp'].dt.date\n",
    "by_day = exp.groupby(['date','group']).agg(conversions=('converted','sum'), users=('user_id','nunique'))\n",
    "by_day['cr'] = by_day['conversions']/by_day['users']\n",
    "by_day = by_day.reset_index()\n",
    "\n",
    "\n",
    "# If plotting is desired (requires matplotlib)\n",
    "import matplotlib.pyplot as plt\n",
    "for g in ['A','B']:\n",
    "    sub = by_day[by_day['group']==g]\n",
    "    plt.plot(sub['date'], sub['cr'], label=g)\n",
    "plt.legend(); plt.title('Daily Conversion Rate by Group'); plt.xticks(rotation=45); plt.tight_layout(); plt.show()"
   ]
  },
  {
   "cell_type": "markdown",
   "id": "bd1dea3c-f1d1-4d7f-86b1-7bf741f78fc3",
   "metadata": {},
   "source": [
    "## 7. Report Snippet"
   ]
  },
  {
   "cell_type": "code",
   "execution_count": 11,
   "id": "758a0d7a-781b-47d9-9302-c3292b5c3d9a",
   "metadata": {},
   "outputs": [
    {
     "data": {
      "text/plain": [
       "n_A          145,232.000000\n",
       "n_B          145,352.000000\n",
       "cr_A               0.120297\n",
       "cr_B               0.118843\n",
       "lift_abs          -0.001455\n",
       "lift_rel_%        -1.209210\n",
       "p_value            0.886550\n",
       "dtype: float64"
      ]
     },
     "execution_count": 11,
     "metadata": {},
     "output_type": "execute_result"
    }
   ],
   "source": [
    "summary = {\n",
    "'n_A': int(agg.loc['A','users']),\n",
    "'n_B': int(agg.loc['B','users']),\n",
    "'cr_A': float(agg.loc['A','cr']),\n",
    "'cr_B': float(agg.loc['B','cr']),\n",
    "'lift_abs': float(lift_abs),\n",
    "'lift_rel_%': float(100*lift_rel),\n",
    "'p_value': float(pval)\n",
    "}\n",
    "\n",
    "\n",
    "pd.Series(summary)"
   ]
  },
  {
   "cell_type": "code",
   "execution_count": null,
   "id": "bf3574fc-41d4-4f97-ad28-5cb01f3ba46c",
   "metadata": {},
   "outputs": [],
   "source": []
  }
 ],
 "metadata": {
  "kernelspec": {
   "display_name": "Python (E_C_A_B_env)",
   "language": "python",
   "name": "e_c_a_b_env"
  },
  "language_info": {
   "codemirror_mode": {
    "name": "ipython",
    "version": 3
   },
   "file_extension": ".py",
   "mimetype": "text/x-python",
   "name": "python",
   "nbconvert_exporter": "python",
   "pygments_lexer": "ipython3",
   "version": "3.12.11"
  }
 },
 "nbformat": 4,
 "nbformat_minor": 5
}
